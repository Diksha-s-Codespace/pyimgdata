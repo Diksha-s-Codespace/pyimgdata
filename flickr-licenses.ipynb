{
 "cells": [
  {
   "cell_type": "code",
   "execution_count": 2,
   "metadata": {},
   "outputs": [
    {
     "ename": "FlickrError",
     "evalue": "Error: 100: Invalid API Key (Key has invalid format)",
     "output_type": "error",
     "traceback": [
      "\u001b[1;31m---------------------------------------------------------------------------\u001b[0m",
      "\u001b[1;31mFlickrError\u001b[0m                               Traceback (most recent call last)",
      "Cell \u001b[1;32mIn[2], line 5\u001b[0m\n\u001b[0;32m      1\u001b[0m \u001b[39mimport\u001b[39;00m \u001b[39mflickrapi\u001b[39;00m\n\u001b[0;32m      3\u001b[0m flickr\u001b[39m=\u001b[39mflickrapi\u001b[39m.\u001b[39mFlickrAPI(\u001b[39m'\u001b[39m\u001b[39m[[id]]\u001b[39m\u001b[39m'\u001b[39m, \u001b[39m'\u001b[39m\u001b[39m[[password]]\u001b[39m\u001b[39m'\u001b[39m, cache\u001b[39m=\u001b[39m\u001b[39mTrue\u001b[39;00m)\n\u001b[1;32m----> 5\u001b[0m \u001b[39mfor\u001b[39;00m l \u001b[39min\u001b[39;00m flickr\u001b[39m.\u001b[39;49mphotos\u001b[39m.\u001b[39;49mlicenses\u001b[39m.\u001b[39;49mgetInfo()\u001b[39m.\u001b[39mfind(\u001b[39m'\u001b[39m\u001b[39mlicenses\u001b[39m\u001b[39m'\u001b[39m):\n\u001b[0;32m      6\u001b[0m     \u001b[39mprint\u001b[39m(l\u001b[39m.\u001b[39mget(\u001b[39m\"\u001b[39m\u001b[39mid\u001b[39m\u001b[39m\"\u001b[39m), l\u001b[39m.\u001b[39mget(\u001b[39m'\u001b[39m\u001b[39mname\u001b[39m\u001b[39m'\u001b[39m))\n",
      "File \u001b[1;32mc:\\Python311\\Lib\\site-packages\\flickrapi\\call_builder.py:38\u001b[0m, in \u001b[0;36mCallBuilder.__call__\u001b[1;34m(self, **kwargs)\u001b[0m\n\u001b[0;32m     37\u001b[0m \u001b[39mdef\u001b[39;00m \u001b[39m__call__\u001b[39m(\u001b[39mself\u001b[39m, \u001b[39m*\u001b[39m\u001b[39m*\u001b[39mkwargs):\n\u001b[1;32m---> 38\u001b[0m     \u001b[39mreturn\u001b[39;00m \u001b[39mself\u001b[39;49m\u001b[39m.\u001b[39;49mflickrapi_object\u001b[39m.\u001b[39;49mdo_flickr_call(\u001b[39mself\u001b[39;49m\u001b[39m.\u001b[39;49mmethod_name, \u001b[39m*\u001b[39;49m\u001b[39m*\u001b[39;49mkwargs)\n",
      "File \u001b[1;32mc:\\Python311\\Lib\\site-packages\\flickrapi\\core.py:334\u001b[0m, in \u001b[0;36mFlickrAPI.do_flickr_call\u001b[1;34m(self, _method_name, timeout, **kwargs)\u001b[0m\n\u001b[0;32m    330\u001b[0m params \u001b[39m=\u001b[39m \u001b[39mself\u001b[39m\u001b[39m.\u001b[39m_supply_defaults(params, defaults)\n\u001b[0;32m    332\u001b[0m LOG\u001b[39m.\u001b[39minfo(\u001b[39m'\u001b[39m\u001b[39mCalling \u001b[39m\u001b[39m%s\u001b[39;00m\u001b[39m'\u001b[39m, defaults)\n\u001b[1;32m--> 334\u001b[0m \u001b[39mreturn\u001b[39;00m \u001b[39mself\u001b[39;49m\u001b[39m.\u001b[39;49m_wrap_in_parser(\u001b[39mself\u001b[39;49m\u001b[39m.\u001b[39;49m_flickr_call,\n\u001b[0;32m    335\u001b[0m                             parse_format\u001b[39m=\u001b[39;49mparams[\u001b[39m'\u001b[39;49m\u001b[39mformat\u001b[39;49m\u001b[39m'\u001b[39;49m],\n\u001b[0;32m    336\u001b[0m                             timeout\u001b[39m=\u001b[39;49mtimeout,\n\u001b[0;32m    337\u001b[0m                             \u001b[39m*\u001b[39;49m\u001b[39m*\u001b[39;49mparams)\n",
      "File \u001b[1;32mc:\\Python311\\Lib\\site-packages\\flickrapi\\core.py:407\u001b[0m, in \u001b[0;36mFlickrAPI._wrap_in_parser\u001b[1;34m(self, wrapped_method, parse_format, *args, **kwargs)\u001b[0m\n\u001b[0;32m    405\u001b[0m \u001b[39m# Return the parsed data\u001b[39;00m\n\u001b[0;32m    406\u001b[0m parser \u001b[39m=\u001b[39m rest_parsers[parse_format][\u001b[39m0\u001b[39m]\n\u001b[1;32m--> 407\u001b[0m \u001b[39mreturn\u001b[39;00m parser(\u001b[39mself\u001b[39;49m, data)\n",
      "File \u001b[1;32mc:\\Python311\\Lib\\site-packages\\flickrapi\\core.py:297\u001b[0m, in \u001b[0;36mFlickrAPI.parse_etree\u001b[1;34m(self, rest_xml)\u001b[0m\n\u001b[0;32m    295\u001b[0m err \u001b[39m=\u001b[39m rsp\u001b[39m.\u001b[39mfind(\u001b[39m'\u001b[39m\u001b[39merr\u001b[39m\u001b[39m'\u001b[39m)\n\u001b[0;32m    296\u001b[0m code \u001b[39m=\u001b[39m err\u001b[39m.\u001b[39mattrib\u001b[39m.\u001b[39mget(\u001b[39m'\u001b[39m\u001b[39mcode\u001b[39m\u001b[39m'\u001b[39m, \u001b[39mNone\u001b[39;00m)\n\u001b[1;32m--> 297\u001b[0m \u001b[39mraise\u001b[39;00m FlickrError(six\u001b[39m.\u001b[39mu(\u001b[39m'\u001b[39m\u001b[39mError: \u001b[39m\u001b[39m%(code)s\u001b[39;00m\u001b[39m: \u001b[39m\u001b[39m%(msg)s\u001b[39;00m\u001b[39m'\u001b[39m) \u001b[39m%\u001b[39m err\u001b[39m.\u001b[39mattrib, code\u001b[39m=\u001b[39mcode)\n",
      "\u001b[1;31mFlickrError\u001b[0m: Error: 100: Invalid API Key (Key has invalid format)"
     ]
    }
   ],
   "source": [
    "import flickrapi\n",
    "\n",
    "flickr=flickrapi.FlickrAPI('[[id]]', '[[password]]', cache=True)\n",
    "\n",
    "for l in flickr.photos.licenses.getInfo().find('licenses'):\n",
    "    print(l.get(\"id\"), l.get('name'))"
   ]
  },
  {
   "cell_type": "code",
   "execution_count": null,
   "metadata": {},
   "outputs": [],
   "source": []
  }
 ],
 "metadata": {
  "kernelspec": {
   "display_name": "Python 3",
   "language": "python",
   "name": "python3"
  },
  "language_info": {
   "codemirror_mode": {
    "name": "ipython",
    "version": 3
   },
   "file_extension": ".py",
   "mimetype": "text/x-python",
   "name": "python",
   "nbconvert_exporter": "python",
   "pygments_lexer": "ipython3",
   "version": "3.11.5"
  }
 },
 "nbformat": 4,
 "nbformat_minor": 4
}
